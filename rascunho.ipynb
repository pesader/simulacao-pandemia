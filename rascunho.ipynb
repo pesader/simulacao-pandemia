{
 "cells": [
  {
   "cell_type": "markdown",
   "id": "624b025f",
   "metadata": {},
   "source": [
    "# Rascunho"
   ]
  },
  {
   "cell_type": "markdown",
   "id": "b5fd916d",
   "metadata": {},
   "source": [
    "Esse documento tem o propósito de servir como um \"playground\" para testarmos ideias, fazermos gráficos, etc sem poluir o arquivo principal do trabalho computacional. Mesmo assim, vale a pena manter o rascunho organizado (com headers e textos explicativos) para não nos confudirmos na hora de reaproveitar os códigos que escrevermos aqui 😉."
   ]
  }
 ],
 "metadata": {
  "kernelspec": {
   "display_name": "Julia 1.6.2",
   "language": "julia",
   "name": "julia-1.6"
  },
  "language_info": {
   "file_extension": ".jl",
   "mimetype": "application/julia",
   "name": "julia",
   "version": "1.6.2"
  }
 },
 "nbformat": 4,
 "nbformat_minor": 5
}
