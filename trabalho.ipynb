{
 "cells": [
  {
   "cell_type": "markdown",
   "id": "5f79e203",
   "metadata": {},
   "source": [
    "# MS211 - Trabalho Computacional (Lista 6)"
   ]
  },
  {
   "cell_type": "markdown",
   "id": "5a95a6e9",
   "metadata": {},
   "source": [
    "Pedro Sader Azevedo (RA: 243245)"
   ]
  }
 ],
 "metadata": {
  "kernelspec": {
   "display_name": "Julia 1.6.2",
   "language": "julia",
   "name": "julia-1.6"
  },
  "language_info": {
   "file_extension": ".jl",
   "mimetype": "application/julia",
   "name": "julia",
   "version": "1.6.2"
  }
 },
 "nbformat": 4,
 "nbformat_minor": 5
}
